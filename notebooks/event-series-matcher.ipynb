{
 "cells": [
  {
   "cell_type": "code",
   "execution_count": 1,
   "metadata": {},
   "outputs": [],
   "source": [
    "import json, copy"
   ]
  },
  {
   "cell_type": "code",
   "execution_count": 2,
   "metadata": {},
   "outputs": [],
   "source": [
    "# load event series data\n",
    "\n",
    "file1 = open('eventseries2305.json')\n",
    "\n",
    "event_series = json.load(file1)\n",
    "\n",
    "file1.close()"
   ]
  },
  {
   "cell_type": "code",
   "execution_count": 3,
   "metadata": {},
   "outputs": [],
   "source": [
    "# load event data\n",
    "\n",
    "file2 = open('events2305.json', encoding=\"utf8\")\n",
    "\n",
    "events = json.load(file2)\n",
    "\n",
    "file2.close()"
   ]
  },
  {
   "cell_type": "code",
   "execution_count": 4,
   "metadata": {},
   "outputs": [],
   "source": [
    "# filter out events without title\n",
    "\n",
    "events_with_title = []\n",
    "\n",
    "for binding in events['results']['bindings']:\n",
    "    if 'title' in binding:\n",
    "        events_with_title.append(binding)\n",
    "\n",
    "# filter out event series without title\n",
    "\n",
    "event_series_with_title = []\n",
    "\n",
    "for binding in event_series['results']['bindings']:\n",
    "    if 'title' in binding:\n",
    "        event_series_with_title.append(binding)\n",
    "\n",
    "        "
   ]
  },
  {
   "cell_type": "code",
   "execution_count": 5,
   "metadata": {},
   "outputs": [
    {
     "name": "stdout",
     "output_type": "stream",
     "text": [
      "number of events present in wikidata, with a title value:  3415\n",
      "number of event series present in wikidata, with a title value:  118\n"
     ]
    }
   ],
   "source": [
    "print(\"number of events present in wikidata, with a title value: \", len(events_with_title))\n",
    "print(\"number of event series present in wikidata, with a title value: \", len(event_series_with_title))"
   ]
  },
  {
   "cell_type": "code",
   "execution_count": 6,
   "metadata": {},
   "outputs": [
    {
     "name": "stdout",
     "output_type": "stream",
     "text": [
      "number of events with a title value, and linked to an event series:  278\n",
      "number of events, with respective event series present in event series list:  253\n"
     ]
    }
   ],
   "source": [
    "# subset events with entry \"series\"\n",
    "\n",
    "events_with_title_and_series = []\n",
    "\n",
    "for binding in events['results']['bindings']:\n",
    "    if 'title' in binding and 'series' in binding:\n",
    "        events_with_title_and_series.append(binding)\n",
    "    \n",
    "print(\"number of events with a title value, and linked to an event series: \", len(events_with_title_and_series))\n",
    "\n",
    "# compare linked events with event series, drop the events if there is no match, making sure that corresponding event series exist\n",
    "# \"series\" : type uri, value wikidata link\n",
    "\n",
    "event_series_dummy = [event['series'] for event in event_series_with_title]\n",
    "\n",
    "subset_events_with_title_and_series = [event for event in events_with_title_and_series if event['series'] in event_series_dummy]\n",
    "\n",
    "print(\"number of events, with respective event series present in event series list: \",len(subset_events_with_title_and_series))"
   ]
  },
  {
   "attachments": {},
   "cell_type": "markdown",
   "metadata": {},
   "source": [
    "the discrepancy between numbers show that there are events in wikidata with a series value, but these series values are nor present in the event series query"
   ]
  },
  {
   "attachments": {},
   "cell_type": "markdown",
   "metadata": {},
   "source": [
    "moving on, the list \"subset_events_with_title_and_series\" will be our ground truth, to test if our matching algorithm works as intended"
   ]
  },
  {
   "cell_type": "code",
   "execution_count": 7,
   "metadata": {},
   "outputs": [],
   "source": [
    "# drop property series from this subset, to prevent data leakage\n",
    "subset_train = copy.deepcopy(subset_events_with_title_and_series)\n",
    "\n",
    "for event in subset_train:\n",
    "    event.pop('series', None)\n",
    "\n",
    "subset_test = copy.deepcopy(subset_events_with_title_and_series)"
   ]
  },
  {
   "cell_type": "code",
   "execution_count": 8,
   "metadata": {},
   "outputs": [
    {
     "name": "stdout",
     "output_type": "stream",
     "text": [
      "253\n",
      "['Third Conference on Digital Curation Technologies (Qurator 2022)', '37th Italian Conference on Computational Logic', 'Sixteenth International Conference on Concept Lattices and Their Applications (CLA 2022)', '1st International Workshop on Knowledge Graph Generation From Text', '3rd International Workshop on Knowledge Graph Construction (KGCW 2022)', '8th Joint Workshop on Interfaces and Human Decision Making for Recommender Systems', 'Joint Ontology Workshops 2021', '36th Italian Conference on Computational Logic', '7th Linguistic and Cognitive Approaches To Dialog Agents Workshop - LaCATODA 2021', '2nd International Workshop on Knowledge Graph Construction', '11th International Workshop on Enterprise Modeling and Information Systems Architectures', 'Seventh Italian Conference on Computational Linguistics', 'Conference on Digital Curation Technologies (Qurator 2021)', '4th Workshop on Natural Language for Artificial Intelligence', '2nd International Workshop on Information-Communication Technologies & Embedded Systems', 'The 19th International Semantic Web Conference', '6th Workshop on Managing the Evolution and Preservation of the Data Web (MEPDaW)', 'XII Latin American Women in Computing Congress 2020 (LAWCC 2020) co-located with XLVI Latin American Computer Conference ()', '35th Italian Conference on Computational Logic - CILC 2020', '7th Joint Workshop on Interfaces and Human Decision Making for Recommender Systems', '9th International Conference on Information and Communication Technologies in Agriculture, Food and Environment', '3rd Scientific-practical Workshop Information Technologies: Algorithms, Models, Systems', 'Joint Ontology Workshops co-located with the', '2nd International Workshop on Information, Computation, and Control Systems for Distributed Environments', 'Fifthteenth International Conference on Concept Lattices and Their Applications', '2nd International Workshop on Control, Optimisation and Analytical Processing of Social Networks', '10th International Workshop on Enterprise Modeling and Information Systems Architectures', '5th Congress on Robotics and Neuroscience', 'Fourth Italian Conference on Cyber Security', 'Conference on Digital Curation Technologies (Qurator 2020)', '1st International Workshop on Information-Communication Technologies & Embedded Systems', '3rd Workshop on Affective Computing and Context Awareness in Ambient Intelligence (), Universidad Politécnica de', '12th International i* Workshop', 'ASSIN 2 Shared Task: Evaluating Semantic Textual Similarity and Textual Entailment in Portuguese', 'Joint Ontology Workshops 2019 Episode V: The Styrian Autumn of Ontology', 'Eighth Workshop on Software Quality Analysis, Monitoring, Improvement, and Applications', '21st Configuration Workshop', '6th Joint Workshop on Interfaces and Human Decision Making for Recommender Systems', '10th Italian Information Retrieval Workshop', '5th International Workshop on Computational History', '7th International Workshop on Artificial Intelligence and Cognition', 'Semantic Systems. The Power of AI and Knowledge Graphs - 15th International Conference', '20th Italian Conference on Theoretical Computer Science', '5th Workshops on Bridging the Gap Between Human and Automated Reasoning (BtG 2019)', '5th Workshop on Linguistic and Cognitive Approaches to Dialog Agents', '4th Joint Workshop on Bibliometric-enhanced Information Retrieval and Natural Language Processing for Digital Libraries', '9th PhD Symposium on Future Directions in Information Access co-located with 12th European Summer School in Information Retrieval', '1st International Workshop on Information, Computation, and Control Systems for Distributed Environments', 'Seminar Series on Advanced Techniques & Tools for Software Evolution (SATTOSE 2019)', '20th Workshop \"From Objects to Agents\"', '34th Italian Conference on Computational Logic', '4th Swiss Text Analytics Conference', '6th International Conference on ICT for Sustainability', '8th International Workshop on Bidirectional Transformations co-located with the Philadelphia Logic Week', '1st International Workshop on Control, Optimisation and Analytical Processing of Social Networks', '3rd International Conference on Computational Linguistics and Intelligent Systems', 'Second International Workshop on Computer Modeling and Intelligent Systems', '8th International Workshop on Bibliometric-enhanced Information Retrieval (BIR 2019) co-located with the 41st European Conference on Information Retrieval (ECIR 2019)', '3rd International GamiFIN Conference', '5th Collaborative European Research Conference (CERC 2019)', 'Digital Humanities in the Nordic Countries 4th Conference', '3rd International Conference on Advanced Aspects of Software Engineering', '4th Congress on Robotics and Neuroscience', '5th Joint Workshop on Interfaces and Human Decision Making for Recommender Systems', '20th Configuration Workshop', '33rd Italian Conference on Computational Logic', '19th Italian Conference on Theoretical Computer Science', 'The Joint Ontology Workshops 2018', 'Fourth Workshop on Bridging the Gap between Human and Automated Reasoning', 'The Fourth Linguistic and Cognitive Approaches To Dialog Agents Workshop', 'Workshop on Experimental Evaluation of Algorithms for Solving Problems with Combinatorial Explosion co-located with the Federated Logic Conference, RCRA@FLOC 2018', '6th International Workshop on Artificial Intelligence and Cognition', '2nd International Conference on Computational Linguistics and Intelligent Systems, COLINS 2018, Main Conference', '11th International Conference on Random and Exhaustive Generation of Combinatorial Structures', '10th International Workshop on Science Gateways', '11th International i* Workshop', 'Fourteenth International Conference on Concept Lattices and Their Applications', '3rd Swiss Text Analytics Conference', '4th Workshop on Managing the Evolution and Preservation of the Data Web', '9th International Workshop on Enterprise Modeling and Information Systems Architectures', '14th International Conference on ICT in Education, Research and Industrial Applications. Integration, Harmonization and Knowledge Transfer. Main Conference', 'The 11th Workshop on Linked Data on the Web', 'Workshop on Affective Computing and Context Awareness in Ambient Intelligence ()', '20th International Workshop on Design, Optimization, Languages and Analytical Processing of Big Data', '3rd International Workshop on Semantic Web 2018 co-located with 15th International Congress on Information (INFO 2018)', 'Second Italian Conference on Cyber Security', '8th International Workshop on Evaluating Information Access co-located with the 13th NTCIR Conference on the Evaluation of Information Access Technologies (NTCIR 2017)', '16th edition of the BElgian-NEtherlands software eVOLution symposium', '10th Forum Media Technology and 3rd All Around Audio Symposium', '9th International Workshop on Software Ecosystems', '3rd INCOSE Italia Conference on Systems Engineering', '5th International Workshop on Artificial Intelligence and Cognition', 'Joint Ontology Workshops 2017', '4th Joint Workshop on Interfaces and Human Decision Making for Recommender Systems', 'Linguistic and Cognitive Approaches To Dialog Agents Workshop', '2nd Joint Workshop on Bibliometric-enhanced Information Retrieval and Natural Language Processing for Digital Libraries', '3rd Workshop on Bridging the Gap between Human and Automated Reasoning - Is Logic and Automated Reasoning a Foundation for Human Reasoning?', 'Twelfth International Workshop on Neural-Symbolic Learning and Reasoning', '9th International Workshop on Science Gateways', '10th International i* Workshop co-located with the 29th International Conference on Advanced Information Systems Engineering', '8th International Workshop on Enterprise Modeling and Information Systems Architectures', '8th Italian Information Retrieval Workshop', '3rd Workshop on Managing the Evolution and Preservation of the Data Web', '4th Workshop on Linked Data Quality', 'The 10th Workshop on Linked Data on the Web', '19th International Workshop on Design, Optimization, Languages and Analytical Processing of Big Data', '9th Central European Workshop on Services and their Composition', 'International Workshop on Software Ecosystems co-located with 10th International Conference on Information Systemss', '2nd International Conference on Recent Trends and Applications in Computer Science and Information Technology', '2nd INCOSE Italia Conference on Systems Engineering', '2nd International Workshop on Semantic Web 2016 co-located with 14th International Congress on Information (INFO 2016)', '10th Workshop on Verification and Evaluation of Computer and Communication System', '7th Workshop on Ontologies and Data in Life Sciences, ODLS 2016, organized by the GI Workgroup Ontologies in Biomedicine and Life Sciences (OBML)', '3rd Joint Workshop on Interfaces and Human Decision Making for Recommender Systems', 'Ninth International i* Workshop', '2nd International Workshop on Knowledge Discovery on the WEB', 'Workshop on Computational Creativity, Concept Invention, and General Intelligence (C3GI 2016) co-located with the 28th European Summer School in Logic, Language and Information', 'Tenth Latin American Workshop on Logic/Languages, Algorithms and New Methods of Reasoning', '17th Workshop \"From Objects to Agents\" co-located with 18th European Agent Systems Summer School', 'The Work in Progress Section of the DML track of CICM 2016', 'Thirteenth International Conference on Concept Lattices and Their Applications', 'Post-9th Seminar on Advanced Techniques and Tools for Software Evolution', '2nd Workshop on Bridging the Gap between Human and Automated Reasoning', 'Joint Ontology Workshops 2016', '3rd Congreso de la Sociedad Española para las Ciencias del Videojuego', 'Joint Workshop on Bibliometric-enhanced Information Retrieval and Natural Language Processing for Digital Libraries', '31st Italian Conference on Computational Logic', '8th International Workshop on Science Gateways', '2nd Workshop on Managing the Evolution and Preservation of the Data Web', '3rd Workshop on Linked Data Quality', 'Workshop on Linked Data on the Web', \"6th Workshop on 'Making Sense of Microposts'\", '5th International Workshop on Bidirectional Transformations', '1st Chinese Conference on Logic and Argumentation', 'Third Workshop on Bibliometric-enhanced Information Retrieval', 'Joint REFSQ-2016 Workshops, Doctoral Symposium, Research Method Track, and Poster Track co-located with the 22nd International Conference on Requirements Engineering: Foundation for Software Quality (REFSQ 2016)', 'Third Interdisciplinary Workshop SHAPES 3.0 - The Shape of Things 2015', 'Twelfth International Conference on Concept Lattices and Their Applications', 'embedded operating system workshop - Embed With Linux 2015', '3rd International Workshop on Artificial Intelligence and Cognition', '2nd Joint Workshop on Interfaces and Human Decision Making for Recommender Systems', '17th International Configuration Workshop', '2nd Annual International Symposium on Information Management and Big Data -', 'Eighth International i* Workshop', '1st Workshop on Bridging the Gap between Human and Automated Reasoning', 'Joint Ontology Workshops 2015', '30th Italian Conference on Computational Logic', '4th Workshop on Software Quality Analysis, Monitoring, Improvement, and Applications', 'The 8th Workshop on Linked Data on the Web', 'Geospatial Science Research 3 Symposium', 'INCOSE Italia Conference on Systems Engineering', 'Ninth Conference on Semantic Technology for Intelligence, Defense, and Security', 'Embed With Linux 2014 Workshop', '5th International Conference on Biomedical Ontology', '1st Symposium on Information Management and Big Data -', 'Eleventh International Conference on Concept Lattices and Their Applications', '8th International Workshop on Verification and Evaluation of Computer and Communication Systems', 'XV Workshop \"Dagli Oggetti agli Agenti\"', '3rd Workshop on Software Quality Analysis, Monitoring, Improvement and Applications', '2ème Journée AIM de recherche Serious Games et innovation', 'Tweet Language Identification Workshop co-located with 30th Conference of the Spanish Society for Natural Language Processing, TweetLID@', '1st Congreso de la Sociedad Española para las Ciencias del Videojuego', '29th Italian Conference on Computational Logic', 'First International Workshop on Artificial Intelligence and Cognition (AIC 2013) An official workshop of the 13th International Conference of the Italian Association for Artificial Intelligence (AI*IA 2013)', 'Symposium on Software Performance: Joint Kieker/Palladio Days 2013', 'Tenth International Conference on Concept Lattices and Their Applications', '28th Italian Conference on Computational Logic', '6th Seminar on Ontology Research in Brazil', 'LinkedUp Veni Competition on Linked and Open Data for Education held at the Open Knowledge Conference 2013', '2nd Workshop on Software Quality Analysis, Monitoring, Improvement, and Applications', 'Conference on Information Technologies - Applications and Theory', '3rd International Symposium on Data-driven Process Discovery and Analysis', '5. Workshop \"Business Intelligence\" der GI-Fachgruppe Business Intelligence in Zusammenarbeit mit dem Institut für Wirtschaftsinformatik der Technischen Universität Bergakademie', '4th International Conference on Biomedical Ontology 2013', '9th International Conference on ICT in Education, Research and Industrial Applications: Integration, Harmonization and Knowledge Transfer', '6th International i* Workshop 2013', '5th International Workshop on Software Ecosystems', 'Ninth Spring Researchers Colloquium on Databases and Information Systems', 'Dateso 2013 Annual International Workshop on DAtabases, TExts, Specifications and Objects', '5th Central-European Workshop on Services and their Composition', 'Geospatial Science Research 2 Symposium', 'Workshop on Context-Aware Adaptation of Service Front-Ends', 'Ninth International Conference on Concept Lattices and Their Applications', '21th International Workshop on Concurrency, Specification and Programming', 'Joint V Seminar on Ontology Research in Brazil and VII International Workshop on Metamodels, Ontologies and Semantic Technologies', '12th Conference on Theory and Practice of Information Technologies', '13th Workshop on Objects and Agents', '2nd International Workshop on Information Management for Mobile Applications', 'Second International Workshop on Searching and Integrating New Web Data Sources', 'Forth International Workshop on Software Ecosystems', \"Popularize Artificial Intelligence, AI*IA Workshop and Prize for Celebrating 100th Anniversary of Alan Turing's Birth\", '9th Italian Convention on Computational Logic', '4th Central-European Workshop on Services and their Composition', 'Sixth International Conference on Semantic Technologies for Intelligence, Defense, and Security', '6th SIKS Conference on Enterprise Information Systems', 'Eighth International Conference on Concept Lattices and Their Applications', '11th Conference on Theory and Practice of Information Technologies', '5th International Conference on Information and Communication Technologies for Sustainable Agri-production and Environment', 'First International Workshop on Searching and Integrating New Web Data Sources - Very Large Data Search', '26th Italian Conference on Computational Logic', '5th International i* Workshop 2011', '3rd Canadian Semantic Web Symposium (CSWS2011)', '1st CUBIST (Combining and Uniting Business Intelligence with Semantic Technologies) Workshop 2011', '2nd International Conference on Biomedical Ontology', '1st European Workshop on Human-Computer Interaction and Information Retrieval', '6th Open Knowledge Conference', '3rd International Workshop on Science Gateways for Life Sciences', 'Third International Workshop on Software Ecosystems', '2nd Italian Information Retrieval (IIR) Workshop', '6th International Workshop on Online Dispute Resolution 2010', '5th SIKS/BENAIS Conference on Enterprise Information Systems', '7th International Conference on Concept Lattices and Their Applications', 'Fourth International Symposium for Semantic Mining in Biomedicine', 'Third Interop-Vlab.It Workshop on Enterprise Interoperability', 'Conference on Theory and Practice of Information Technologies, , Hotel Smrekovica', 'Workshop, Dagli Oggetti Agli Agenti', '25th Italian Conference on Computational Logic', '17th RCRA workshop on Experimental Evaluation of Algorithms for Solving Problems with Combinatorial Explosion', '4th International i* Workshop', '5th Open Knowledge Conference', 'First International Workshop on Software Ecosystems ( IWSECO-2009 ), co-located with the 11th International Conference on Software Reuse', 'Conference on Theory and Practice of Information Technologies', '2nd International Conference on ICT Solutions for Justice', 'International Workshop on Portals for Life Sciences', '1st International Conference on ICT Solutions for Justice', 'CLA2008 Concept Lattices and Their Applications', \"iStar'08 3rd International i* Workshop\", '5th International Workshop on Evaluation of Ontologies and Ontology-based Tools, EON2007, Co-located with the ISWC2007', '2nd International Workshop on Modular Ontologies', \"CLA '07 Concept Lattices and their Applications\", 'Latin-American Workshop on Non-Monotonic Reasoning, LA-NMR07 Workshop, Benemérita Universidad Autónoma de', 'Workshop on Advanced Learning Technologies for Disabled and Non-Disabled People', 'Semantic Web Applications and Perspectives, 3rd Italian Semantic Web Workshop, Scuola Normale Superiore', \"4th European Workshop on Multi-Agent Systems EUMAS'06\", 'Workshop, From Objects to Agents', \"Answer Set Programming, Advances in Theory and Implementation, 3rd Intl. ASP'05 Workshop\", 'CLA 2005 Concept Lattices and their Applications', '5th International Conference on the Quality of Information and Communications Technology', 'CLA 2004 Concept Lattices and their Applications', 'Latin-American Workshop on Non-Monotonic Reasoning, 1st Intl. LA-NMR04 Workshop, Antiguo Colegio de San Ildefonso', \"Answer Set Programming, Advances in Theory and Implementation, 2nd Intl. ASP'03 Workshop\", 'Design and Management of Data Warehouses 2003, 5th Intl. Workshop', 'Design and Management of Data Warehouses 2002, 4th Intl. Workshop', 'International Workshop on the Semantic Web, Hawaii', \"3rd Intl. Workshop on Design and Management of Data Warehouses, DMDW'2001\", 'Second International Workshop on the Semantic Web', 'International Conference on Systems Thinking in Management', 'Third International Conference on Practical Aspects of Knowledge Management, Third International Conference', '7th International Workshop on Knowledge Representation meets Databases (KRDB 2000)', '4. Workshop Föderierte Datenbanken', \"Intl. Workshop on Design and Management of Data Warehouses, DMDW'99\", 'Intelligent Access to Heterogeneous Information, 4th Workshop', 'Reasoning about Structured Objects: Knowledge Representation Meets Databases, 2nd Workshop']\n"
     ]
    }
   ],
   "source": [
    "# extract event title values into a list\n",
    "\n",
    "subset_train_only_titles = []\n",
    "\n",
    "for titles in subset_train:\n",
    "    subset_train_only_titles.append(titles['title']['value'])\n",
    "\n",
    "print(len(subset_train_only_titles))\n",
    "print(subset_train_only_titles)"
   ]
  },
  {
   "cell_type": "code",
   "execution_count": 9,
   "metadata": {},
   "outputs": [
    {
     "name": "stdout",
     "output_type": "stream",
     "text": [
      "118\n",
      "['European Workshop on Human-Computer Interaction and Information Retrieval', 'International Workshop on Neural-Symbolic Learning and Reasoning', 'International Conference on Computational Linguistics and Intelligent Systems', 'Workshop From Objects to Agents', 'International Workshop on Information Management for Mobile Applications', 'International Workshop on Knowledge Discovery on the Web', 'International Workshop on Artificial Intelligence and Cognition', 'International Configuration Workshop', 'Interop-Vlab.It Workshop on Pervasive Computing for Networked Enterprises', 'International Workshop on Modular Ontologies', 'Design and Management of Data Warehouses', 'Joint Ontology Workshops', 'International Workshop on Knowledge Graph Construction', 'Italian Conference on Cybersecurity', 'International Conference on Biomedical Ontology', 'Conference on Digital Curation Technologies', 'International Workshop on Control, Optimisation and Analytical Processing of Social Networks', 'Workshop on Linked Data on the Web', 'International Workshop on Online Dispute Resolution', 'International Workshop on Semantic Web Technologies', 'Italian Conference on Computational Linguistics', 'BCS-IRSG Symposium on Future Directions in Information Access', 'Joint Seminar on Ontology Research in Brazil / International Workshop on Metamodels, Ontologies and Semantic Technologies', 'Latin-American Workshop on Non-Monotonic Reasoning', 'Symposium on Information Management and Big Data', 'International Conference on Semantic Systems', 'International Workshop on Requirements Engineering and Testing', 'Workshop on Managing the Evolution and Preservation of the Data Web', 'International Workshop on Enterprise Modeling and Information Systems Architectures', 'International Conference of the Italian Association for Artificial Intelligence', 'Scientific-practical Workshop Information Technologies: Algorithms, Models, Systems', 'Quality of Information and Communications Technology', 'Annual Conference of the Spanish Society for Natural Language Processing', 'Workshop on Making Sense of Microposts', 'Workshop on Affective Computing and Context Awareness in Ambient Intelligence', 'Workshop on Advanced Learning Technologies for Disabled and Non-Disabled People', 'International Workshop on Computer Modeling and Intelligent Systems', 'Databases, Texts, Specifications, Objects', 'International Workshop on Bibliometric-enhanced Information Retrieval', 'Workshop on Bridging the Gap between Human and Automated Reasoning', 'Italian Conference on Theoretical Computer Science', 'Workshop on Semantic Web Applications and Tools for Life Sciences', 'European Conference on Multi-Agent Systems', 'Conference on Theory and Practice of Information Technologies', 'International Conference on Information and Communication Technologies for Sustainable Agri-production and Environment', 'ICT for Sustainability', 'Answer Set Programming', 'Canadian Semantic Web Symposium', 'INCOSE Italia Conference on Systems Engineering', 'Workshop on Evaluation of Ontology-based Tools', 'International Workshop on Concurrency, Specification and Programming', 'International Workshop on Software Ecosystems', 'International Workshop on Very Large Data Search', 'International Conference on Random and Exhaustive Generation of Combinatorial Structures', 'International Workshop on Information-Communication Technologies & Embedded Systems', 'Joint Workshop on Bibliometric-enhanced Information Retrieval and Natural Language Processing for Digital Libraries', 'International Workshop on Information, Computation, and Control Systems for Distributed Environments', 'International Workshop on Verification and Evaluation of Computer and Communication Systems', 'Workshop on Linguistic and Cognitive Approaches To Dialog Agents', 'Swiss Text Analytics Conference', 'Workshop Business Intelligence', 'Conference on Enterprise Information Systems', 'Workshop FÃ¶derierte Datenbanken', 'Open Knowledge Conference', 'International Conference on ICT Solutions for Justice', 'Seminar on Advanced Techniques and Tools for Software Evolution', 'International Workshop on Science Gateways', 'Geospatial Science Research Symposium', 'Practical Aspects of Knowledge Management', 'NTCIR Conference on Evaluation of Information Access Technologies', 'International Workshop on Description Logics', 'International i* Workshop', 'Brazilian Symposium in Information and Human Language Technology', 'Workshop on Knowledge Representation and Automated Reasoning', 'Digital Humanities in the Nordic Countries Conference', 'Workshop on Computational Creativity, Concept Invention, and General Intelligence', 'Workshop on Linked Data Quality', 'Workshop on Context-Aware Adaptation of Service Front-Ends', 'Workshop on Ontologies and Data in Life Sciences', 'Central-European Workshop on Services and their Composition', 'Workshop on Computational History', 'International Semantic Web Conference', 'Italian Research Conference on Digital Library Management Systems', 'Collaborative European Research Conference', 'Joint Workshop on Interfaces and Human Decision Making for Recommender Systems', 'Workshop on Knowledge Graph Generation From Text', 'Intelligent Computer Mathematics - 9th International Conference', 'Combining and Uniting Business Intelligence with Semantic Technologies Workshop', 'Conference of the Association Information and Management', 'International Workshop on the Semantic Web', 'Embed With Linux Workshop', 'Joint International Conference of Semantic Technology', 'SEMANTiCS', 'Semantic Web Applications and Perspectives', 'Conference of the Spanish Association for Videogames Sciences', 'International Conference on Advanced Aspects of Software Engineering', 'International Symposium on Data-Driven Process Discovery and Analysis', 'Latin American Computing Conference / Conferencia Latinoamericana En Informatica', 'International Workshop on Bidirectional Transformations', 'International Conference on Recent Trends and Applications in Computer Science and Information Technology', 'International Conference on Information and Communication Technologies in Education, Research, and Industrial Applications', 'International Workshop on Data Warehousing and OLAP', 'Forum Media Technology', 'Software Quality Analysis, Monitoring, Improvement, and Applications', 'Semantic Technologies for Intelligence, Defense, and Security', 'Chinese Conference on Logic and Argumentation', 'Knowledge Representation Meets Databases', 'Congress on Robotics and Neuroscience', 'International Conference on Concept Lattices and their Applications', 'Interdisciplinary Workshop The Shape of Things', 'GamiFIN Conference', 'Symposium on Small Systems', 'International Conference on Systems', 'Italian Information Retrieval Workshop', 'Italian Conference on Computational Logic', 'BElgian-NEtherlands software eVOLution symposium', 'Spring Young Researchers Colloquium on Databases and Information Systems', 'International Symposium for Semantic Mining in Biomedicine']\n"
     ]
    }
   ],
   "source": [
    "# extract event series' title values into a list\n",
    "\n",
    "event_series_only_title = []\n",
    "\n",
    "for titles in event_series_with_title:\n",
    "    event_series_only_title.append(titles['title']['value'])\n",
    "\n",
    "print(len(event_series_only_title))\n",
    "print(event_series_only_title)"
   ]
  },
  {
   "cell_type": "code",
   "execution_count": 10,
   "metadata": {},
   "outputs": [
    {
     "name": "stderr",
     "output_type": "stream",
     "text": [
      "c:\\Users\\Doruk\\rwth\\KG_Lab\\CEUR-WS-Event-Series--SS23\\.venv\\Lib\\site-packages\\tqdm\\auto.py:21: TqdmWarning: IProgress not found. Please update jupyter and ipywidgets. See https://ipywidgets.readthedocs.io/en/stable/user_install.html\n",
      "  from .autonotebook import tqdm as notebook_tqdm\n"
     ]
    },
    {
     "name": "stdout",
     "output_type": "stream",
     "text": [
      "Conference on Digital Curation Technologies\n",
      "Italian Conference on Computational Logic\n",
      "Workshop on Knowledge Graph Generation From Text\n",
      "International Workshop on Knowledge Graph Construction\n",
      "Joint Workshop on Interfaces and Human Decision Making for Recommender Systems\n",
      "Joint Ontology Workshops\n",
      "Italian Conference on Computational Logic\n",
      "International Workshop on Knowledge Graph Construction\n",
      "International Workshop on Enterprise Modeling and Information Systems Architectures\n",
      "Italian Conference on Computational Linguistics\n",
      "Conference on Digital Curation Technologies\n",
      "International Workshop on Information-Communication Technologies & Embedded Systems\n",
      "International Semantic Web Conference\n",
      "Workshop on Managing the Evolution and Preservation of the Data Web\n",
      "Italian Conference on Computational Logic\n",
      "Joint Workshop on Interfaces and Human Decision Making for Recommender Systems\n",
      "Scientific-practical Workshop Information Technologies: Algorithms, Models, Systems\n",
      "Joint Ontology Workshops\n",
      "International Workshop on Information, Computation, and Control Systems for Distributed Environments\n",
      "International Workshop on Control, Optimisation and Analytical Processing of Social Networks\n",
      "International Workshop on Enterprise Modeling and Information Systems Architectures\n",
      "Congress on Robotics and Neuroscience\n",
      "Conference on Digital Curation Technologies\n",
      "International Workshop on Information-Communication Technologies & Embedded Systems\n",
      "Workshop on Affective Computing and Context Awareness in Ambient Intelligence\n",
      "International i* Workshop\n",
      "Joint Ontology Workshops\n",
      "Software Quality Analysis, Monitoring, Improvement, and Applications\n",
      "Joint Workshop on Interfaces and Human Decision Making for Recommender Systems\n",
      "Italian Information Retrieval Workshop\n",
      "Workshop on Computational History\n",
      "International Workshop on Artificial Intelligence and Cognition\n",
      "Italian Conference on Theoretical Computer Science\n",
      "Joint Workshop on Bibliometric-enhanced Information Retrieval and Natural Language Processing for Digital Libraries\n",
      "International Workshop on Information, Computation, and Control Systems for Distributed Environments\n",
      "Italian Conference on Computational Logic\n",
      "Swiss Text Analytics Conference\n",
      "ICT for Sustainability\n",
      "International Workshop on Bidirectional Transformations\n",
      "International Workshop on Control, Optimisation and Analytical Processing of Social Networks\n",
      "International Conference on Computational Linguistics and Intelligent Systems\n",
      "International Workshop on Computer Modeling and Intelligent Systems\n",
      "International Workshop on Bibliometric-enhanced Information Retrieval\n",
      "GamiFIN Conference\n",
      "Collaborative European Research Conference\n",
      "International Conference on Advanced Aspects of Software Engineering\n",
      "Congress on Robotics and Neuroscience\n",
      "Joint Workshop on Interfaces and Human Decision Making for Recommender Systems\n",
      "Italian Conference on Computational Logic\n",
      "Italian Conference on Theoretical Computer Science\n",
      "Joint Ontology Workshops\n",
      "Workshop on Bridging the Gap between Human and Automated Reasoning\n",
      "International Workshop on Artificial Intelligence and Cognition\n",
      "International Conference on Computational Linguistics and Intelligent Systems\n",
      "International Conference on Random and Exhaustive Generation of Combinatorial Structures\n",
      "International Workshop on Science Gateways\n",
      "International i* Workshop\n",
      "Swiss Text Analytics Conference\n",
      "Workshop on Managing the Evolution and Preservation of the Data Web\n",
      "International Workshop on Enterprise Modeling and Information Systems Architectures\n",
      "Workshop on Linked Data on the Web\n",
      "Workshop on Affective Computing and Context Awareness in Ambient Intelligence\n",
      "BElgian-NEtherlands software eVOLution symposium\n",
      "Forum Media Technology\n",
      "International Workshop on Software Ecosystems\n",
      "INCOSE Italia Conference on Systems Engineering\n",
      "International Workshop on Artificial Intelligence and Cognition\n",
      "Joint Ontology Workshops\n",
      "Joint Workshop on Interfaces and Human Decision Making for Recommender Systems\n",
      "Joint Workshop on Bibliometric-enhanced Information Retrieval and Natural Language Processing for Digital Libraries\n",
      "Workshop on Bridging the Gap between Human and Automated Reasoning\n",
      "International Workshop on Neural-Symbolic Learning and Reasoning\n",
      "International Workshop on Science Gateways\n",
      "International i* Workshop\n",
      "International Workshop on Enterprise Modeling and Information Systems Architectures\n",
      "Italian Information Retrieval Workshop\n",
      "Workshop on Managing the Evolution and Preservation of the Data Web\n",
      "Workshop on Linked Data Quality\n",
      "Workshop on Linked Data on the Web\n",
      "International Workshop on Software Ecosystems\n",
      "International Conference on Recent Trends and Applications in Computer Science and Information Technology\n",
      "INCOSE Italia Conference on Systems Engineering\n",
      "Workshop on Ontologies and Data in Life Sciences\n",
      "Joint Workshop on Interfaces and Human Decision Making for Recommender Systems\n",
      "International i* Workshop\n",
      "Workshop on Computational Creativity, Concept Invention, and General Intelligence\n",
      "Seminar on Advanced Techniques and Tools for Software Evolution\n",
      "Workshop on Bridging the Gap between Human and Automated Reasoning\n",
      "Joint Ontology Workshops\n",
      "Joint Workshop on Bibliometric-enhanced Information Retrieval and Natural Language Processing for Digital Libraries\n",
      "Italian Conference on Computational Logic\n",
      "International Workshop on Science Gateways\n",
      "Workshop on Managing the Evolution and Preservation of the Data Web\n",
      "Workshop on Linked Data Quality\n",
      "Workshop on Linked Data on the Web\n",
      "International Workshop on Bidirectional Transformations\n",
      "Chinese Conference on Logic and Argumentation\n",
      "International Workshop on Artificial Intelligence and Cognition\n",
      "Joint Workshop on Interfaces and Human Decision Making for Recommender Systems\n",
      "International Configuration Workshop\n",
      "Symposium on Information Management and Big Data\n",
      "International i* Workshop\n",
      "Workshop on Bridging the Gap between Human and Automated Reasoning\n",
      "Joint Ontology Workshops\n",
      "Italian Conference on Computational Logic\n",
      "Software Quality Analysis, Monitoring, Improvement, and Applications\n",
      "Workshop on Linked Data on the Web\n",
      "INCOSE Italia Conference on Systems Engineering\n",
      "International Conference on Biomedical Ontology\n",
      "Symposium on Information Management and Big Data\n",
      "International Workshop on Verification and Evaluation of Computer and Communication Systems\n",
      "Italian Conference on Computational Logic\n",
      "International Workshop on Artificial Intelligence and Cognition\n",
      "International Conference of the Italian Association for Artificial Intelligence\n",
      "Italian Conference on Computational Logic\n",
      "Open Knowledge Conference\n",
      "Software Quality Analysis, Monitoring, Improvement, and Applications\n",
      "International Conference on Biomedical Ontology\n",
      "International i* Workshop\n",
      "International Workshop on Software Ecosystems\n",
      "Central-European Workshop on Services and their Composition\n",
      "Workshop on Context-Aware Adaptation of Service Front-Ends\n",
      "International Workshop on Concurrency, Specification and Programming\n",
      "Conference on Theory and Practice of Information Technologies\n",
      "International Workshop on Information Management for Mobile Applications\n",
      "International Workshop on Software Ecosystems\n",
      "Central-European Workshop on Services and their Composition\n",
      "Semantic Technologies for Intelligence, Defense, and Security\n",
      "Conference on Enterprise Information Systems\n",
      "Conference on Theory and Practice of Information Technologies\n",
      "International Conference on Information and Communication Technologies for Sustainable Agri-production and Environment\n",
      "Italian Conference on Computational Logic\n",
      "International i* Workshop\n",
      "Canadian Semantic Web Symposium\n",
      "International Conference on Biomedical Ontology\n",
      "European Workshop on Human-Computer Interaction and Information Retrieval\n",
      "Open Knowledge Conference\n",
      "International Workshop on Science Gateways\n",
      "International Workshop on Software Ecosystems\n",
      "International Workshop on Online Dispute Resolution\n",
      "Conference on Enterprise Information Systems\n",
      "International Symposium for Semantic Mining in Biomedicine\n",
      "Conference on Theory and Practice of Information Technologies\n",
      "Italian Conference on Computational Logic\n",
      "International i* Workshop\n",
      "Open Knowledge Conference\n",
      "International Workshop on Software Ecosystems\n",
      "Conference on Theory and Practice of Information Technologies\n",
      "International Conference on ICT Solutions for Justice\n",
      "International Conference on ICT Solutions for Justice\n",
      "International i* Workshop\n",
      "International Workshop on Modular Ontologies\n",
      "Latin-American Workshop on Non-Monotonic Reasoning\n",
      "Workshop on Advanced Learning Technologies for Disabled and Non-Disabled People\n",
      "Semantic Web Applications and Perspectives\n",
      "Answer Set Programming\n",
      "Quality of Information and Communications Technology\n",
      "Latin-American Workshop on Non-Monotonic Reasoning\n",
      "Answer Set Programming\n",
      "Design and Management of Data Warehouses\n",
      "Design and Management of Data Warehouses\n",
      "International Workshop on the Semantic Web\n",
      "Design and Management of Data Warehouses\n",
      "International Workshop on the Semantic Web\n",
      "International Conference on Systems\n",
      "Practical Aspects of Knowledge Management\n",
      "Design and Management of Data Warehouses\n",
      "Knowledge Representation Meets Databases\n"
     ]
    }
   ],
   "source": [
    "# spaCy rule-based matching\n",
    "# simpler than alternatives\n",
    "# more robust, given that the event series data is not big enough for a statistical model\n",
    "\n",
    "import spacy\n",
    "from spacy.matcher import PhraseMatcher\n",
    "\n",
    "nlp = spacy.load(\"en_core_web_sm\")\n",
    "matcher = PhraseMatcher(nlp.vocab)\n",
    "\n",
    "# terms is the list of event series titles to be matched\n",
    "terms = event_series_only_title.copy()\n",
    "\n",
    "patterns = [nlp.make_doc(text) for text in terms]\n",
    "matcher.add(\"Event Series List\", patterns)\n",
    "\n",
    "events_prediction_event_series = []\n",
    "\n",
    "for index, titles in enumerate(subset_train_only_titles):\n",
    "\n",
    "    doc = nlp(titles)\n",
    "\n",
    "    matches = matcher(doc)\n",
    "\n",
    "    events_prediction_event_series.insert(index, \"\")\n",
    "\n",
    "    for match_id, start, end in matches:\n",
    "        span = doc[start:end]\n",
    "\n",
    "        print(span.text)\n",
    "        events_prediction_event_series[index] = span.text\n",
    "\n"
   ]
  },
  {
   "cell_type": "code",
   "execution_count": 11,
   "metadata": {},
   "outputs": [
    {
     "name": "stdout",
     "output_type": "stream",
     "text": [
      "253\n",
      "['Conference on Digital Curation Technologies', 'Italian Conference on Computational Logic', '', 'Workshop on Knowledge Graph Generation From Text', 'International Workshop on Knowledge Graph Construction', 'Joint Workshop on Interfaces and Human Decision Making for Recommender Systems', 'Joint Ontology Workshops', 'Italian Conference on Computational Logic', '', 'International Workshop on Knowledge Graph Construction', 'International Workshop on Enterprise Modeling and Information Systems Architectures', 'Italian Conference on Computational Linguistics', 'Conference on Digital Curation Technologies', '', 'International Workshop on Information-Communication Technologies & Embedded Systems', 'International Semantic Web Conference', 'Workshop on Managing the Evolution and Preservation of the Data Web', '', 'Italian Conference on Computational Logic', 'Joint Workshop on Interfaces and Human Decision Making for Recommender Systems', '', 'Scientific-practical Workshop Information Technologies: Algorithms, Models, Systems', 'Joint Ontology Workshops', 'International Workshop on Information, Computation, and Control Systems for Distributed Environments', '', 'International Workshop on Control, Optimisation and Analytical Processing of Social Networks', 'International Workshop on Enterprise Modeling and Information Systems Architectures', 'Congress on Robotics and Neuroscience', '', 'Conference on Digital Curation Technologies', 'International Workshop on Information-Communication Technologies & Embedded Systems', 'Workshop on Affective Computing and Context Awareness in Ambient Intelligence', 'International i* Workshop', '', 'Joint Ontology Workshops', 'Software Quality Analysis, Monitoring, Improvement, and Applications', '', 'Joint Workshop on Interfaces and Human Decision Making for Recommender Systems', 'Italian Information Retrieval Workshop', 'Workshop on Computational History', 'International Workshop on Artificial Intelligence and Cognition', '', 'Italian Conference on Theoretical Computer Science', '', '', 'Joint Workshop on Bibliometric-enhanced Information Retrieval and Natural Language Processing for Digital Libraries', '', 'International Workshop on Information, Computation, and Control Systems for Distributed Environments', '', '', 'Italian Conference on Computational Logic', 'Swiss Text Analytics Conference', 'ICT for Sustainability', 'International Workshop on Bidirectional Transformations', 'International Workshop on Control, Optimisation and Analytical Processing of Social Networks', 'International Conference on Computational Linguistics and Intelligent Systems', 'International Workshop on Computer Modeling and Intelligent Systems', 'International Workshop on Bibliometric-enhanced Information Retrieval', 'GamiFIN Conference', 'Collaborative European Research Conference', '', 'International Conference on Advanced Aspects of Software Engineering', 'Congress on Robotics and Neuroscience', 'Joint Workshop on Interfaces and Human Decision Making for Recommender Systems', '', 'Italian Conference on Computational Logic', 'Italian Conference on Theoretical Computer Science', 'Joint Ontology Workshops', 'Workshop on Bridging the Gap between Human and Automated Reasoning', '', '', 'International Workshop on Artificial Intelligence and Cognition', 'International Conference on Computational Linguistics and Intelligent Systems', 'International Conference on Random and Exhaustive Generation of Combinatorial Structures', 'International Workshop on Science Gateways', 'International i* Workshop', '', 'Swiss Text Analytics Conference', 'Workshop on Managing the Evolution and Preservation of the Data Web', 'International Workshop on Enterprise Modeling and Information Systems Architectures', '', 'Workshop on Linked Data on the Web', 'Workshop on Affective Computing and Context Awareness in Ambient Intelligence', '', '', '', '', 'BElgian-NEtherlands software eVOLution symposium', 'Forum Media Technology', 'International Workshop on Software Ecosystems', 'INCOSE Italia Conference on Systems Engineering', 'International Workshop on Artificial Intelligence and Cognition', 'Joint Ontology Workshops', 'Joint Workshop on Interfaces and Human Decision Making for Recommender Systems', '', 'Joint Workshop on Bibliometric-enhanced Information Retrieval and Natural Language Processing for Digital Libraries', 'Workshop on Bridging the Gap between Human and Automated Reasoning', 'International Workshop on Neural-Symbolic Learning and Reasoning', 'International Workshop on Science Gateways', 'International i* Workshop', 'International Workshop on Enterprise Modeling and Information Systems Architectures', 'Italian Information Retrieval Workshop', 'Workshop on Managing the Evolution and Preservation of the Data Web', 'Workshop on Linked Data Quality', 'Workshop on Linked Data on the Web', '', '', 'International Workshop on Software Ecosystems', 'International Conference on Recent Trends and Applications in Computer Science and Information Technology', 'INCOSE Italia Conference on Systems Engineering', '', '', 'Workshop on Ontologies and Data in Life Sciences', 'Joint Workshop on Interfaces and Human Decision Making for Recommender Systems', 'International i* Workshop', '', 'Workshop on Computational Creativity, Concept Invention, and General Intelligence', '', '', '', '', 'Seminar on Advanced Techniques and Tools for Software Evolution', 'Workshop on Bridging the Gap between Human and Automated Reasoning', 'Joint Ontology Workshops', '', 'Joint Workshop on Bibliometric-enhanced Information Retrieval and Natural Language Processing for Digital Libraries', 'Italian Conference on Computational Logic', 'International Workshop on Science Gateways', 'Workshop on Managing the Evolution and Preservation of the Data Web', 'Workshop on Linked Data Quality', 'Workshop on Linked Data on the Web', '', 'International Workshop on Bidirectional Transformations', 'Chinese Conference on Logic and Argumentation', '', '', '', '', '', 'International Workshop on Artificial Intelligence and Cognition', 'Joint Workshop on Interfaces and Human Decision Making for Recommender Systems', 'International Configuration Workshop', 'Symposium on Information Management and Big Data', 'International i* Workshop', 'Workshop on Bridging the Gap between Human and Automated Reasoning', 'Joint Ontology Workshops', 'Italian Conference on Computational Logic', 'Software Quality Analysis, Monitoring, Improvement, and Applications', 'Workshop on Linked Data on the Web', '', 'INCOSE Italia Conference on Systems Engineering', '', '', 'International Conference on Biomedical Ontology', 'Symposium on Information Management and Big Data', '', 'International Workshop on Verification and Evaluation of Computer and Communication Systems', '', '', '', '', '', 'Italian Conference on Computational Logic', 'International Conference of the Italian Association for Artificial Intelligence', '', '', 'Italian Conference on Computational Logic', '', 'Open Knowledge Conference', 'Software Quality Analysis, Monitoring, Improvement, and Applications', '', '', '', 'International Conference on Biomedical Ontology', '', 'International i* Workshop', 'International Workshop on Software Ecosystems', '', '', 'Central-European Workshop on Services and their Composition', '', 'Workshop on Context-Aware Adaptation of Service Front-Ends', '', 'International Workshop on Concurrency, Specification and Programming', '', 'Conference on Theory and Practice of Information Technologies', '', 'International Workshop on Information Management for Mobile Applications', '', 'International Workshop on Software Ecosystems', '', '', 'Central-European Workshop on Services and their Composition', 'Semantic Technologies for Intelligence, Defense, and Security', 'Conference on Enterprise Information Systems', '', 'Conference on Theory and Practice of Information Technologies', 'International Conference on Information and Communication Technologies for Sustainable Agri-production and Environment', '', 'Italian Conference on Computational Logic', 'International i* Workshop', 'Canadian Semantic Web Symposium', '', 'International Conference on Biomedical Ontology', 'European Workshop on Human-Computer Interaction and Information Retrieval', 'Open Knowledge Conference', 'International Workshop on Science Gateways', 'International Workshop on Software Ecosystems', '', 'International Workshop on Online Dispute Resolution', 'Conference on Enterprise Information Systems', '', 'International Symposium for Semantic Mining in Biomedicine', '', 'Conference on Theory and Practice of Information Technologies', '', 'Italian Conference on Computational Logic', '', 'International i* Workshop', 'Open Knowledge Conference', 'International Workshop on Software Ecosystems', 'Conference on Theory and Practice of Information Technologies', 'International Conference on ICT Solutions for Justice', '', 'International Conference on ICT Solutions for Justice', '', 'International i* Workshop', '', 'International Workshop on Modular Ontologies', '', 'Latin-American Workshop on Non-Monotonic Reasoning', 'Workshop on Advanced Learning Technologies for Disabled and Non-Disabled People', 'Semantic Web Applications and Perspectives', '', '', 'Answer Set Programming', '', 'Quality of Information and Communications Technology', '', 'Latin-American Workshop on Non-Monotonic Reasoning', 'Answer Set Programming', 'Design and Management of Data Warehouses', 'Design and Management of Data Warehouses', 'International Workshop on the Semantic Web', 'Design and Management of Data Warehouses', 'International Workshop on the Semantic Web', 'International Conference on Systems', 'Practical Aspects of Knowledge Management', '', '', 'Design and Management of Data Warehouses', '', 'Knowledge Representation Meets Databases']\n"
     ]
    }
   ],
   "source": [
    "print(len(events_prediction_event_series))\n",
    "print(events_prediction_event_series)"
   ]
  },
  {
   "cell_type": "code",
   "execution_count": 12,
   "metadata": {},
   "outputs": [],
   "source": [
    "# insert corresponsing \"series\" value into subset_train\n",
    "\n",
    "for i, title in enumerate(events_prediction_event_series):\n",
    "    for entry in event_series_with_title:\n",
    "        if entry['title']['value'] == title:\n",
    "            subset_train[i]['series'] = entry.get('series')\n",
    "            break\n"
   ]
  },
  {
   "cell_type": "code",
   "execution_count": 14,
   "metadata": {},
   "outputs": [
    {
     "name": "stdout",
     "output_type": "stream",
     "text": [
      "percantage of true predictions:  65.61264822134387\n",
      "percentage of true positives in predictions, aka precision:  100.0\n"
     ]
    }
   ],
   "source": [
    "# compare test and train\n",
    "\n",
    "metrics1 = []\n",
    "metrics2 = []\n",
    "\n",
    "for train, test in zip(subset_train, subset_test):\n",
    "    metrics1.append(True if train.get('series') == test.get('series') else False)\n",
    "    metrics2.append(True if \"series\" in train else False)\n",
    "\n",
    "accuracy = (sum(metrics1) / len(metrics1)) * 100\n",
    "precision = (sum(metrics2) / sum(metrics2)) * 100\n",
    "\n",
    "print(\"percantage of true predictions: \", accuracy)\n",
    "print(\"percentage of true positives in predictions, aka precision: \", precision)"
   ]
  },
  {
   "cell_type": "code",
   "execution_count": 15,
   "metadata": {},
   "outputs": [],
   "source": [
    "#TODO\n",
    "# spaCy entity linking approach\n",
    "# a model is needed to ne trained\n",
    "# this one is more powerful, yet needs more effort\n",
    "# might be more suitable for wikidata"
   ]
  }
 ],
 "metadata": {
  "kernelspec": {
   "display_name": ".venv",
   "language": "python",
   "name": "python3"
  },
  "language_info": {
   "codemirror_mode": {
    "name": "ipython",
    "version": 3
   },
   "file_extension": ".py",
   "mimetype": "text/x-python",
   "name": "python",
   "nbconvert_exporter": "python",
   "pygments_lexer": "ipython3",
   "version": "3.11.3"
  },
  "orig_nbformat": 4
 },
 "nbformat": 4,
 "nbformat_minor": 2
}
