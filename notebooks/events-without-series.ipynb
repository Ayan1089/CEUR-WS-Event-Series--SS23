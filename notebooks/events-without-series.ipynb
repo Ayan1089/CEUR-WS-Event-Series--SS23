{
 "cells": [
  {
   "cell_type": "code",
   "execution_count": 1,
   "metadata": {
    "collapsed": true,
    "ExecuteTime": {
     "start_time": "2023-05-16T22:10:22.260617Z",
     "end_time": "2023-05-16T22:10:30.151631Z"
    }
   },
   "outputs": [],
   "source": [
    "import json\n",
    "import pandas as pd"
   ]
  },
  {
   "cell_type": "code",
   "execution_count": 2,
   "outputs": [],
   "source": [
    "file = open(\"../data/EventsWithoutSeries.json\")\n",
    "file_content = file.read()\n",
    "file.close()"
   ],
   "metadata": {
    "collapsed": false,
    "ExecuteTime": {
     "start_time": "2023-05-16T22:10:30.150870Z",
     "end_time": "2023-05-16T22:10:30.156088Z"
    }
   }
  },
  {
   "cell_type": "code",
   "execution_count": 3,
   "outputs": [],
   "source": [
    "query_dump = json.loads(file_content)\n",
    "df = pd.DataFrame(query_dump)"
   ],
   "metadata": {
    "collapsed": false,
    "ExecuteTime": {
     "start_time": "2023-05-16T22:10:30.166788Z",
     "end_time": "2023-05-16T22:10:30.171480Z"
    }
   }
  },
  {
   "cell_type": "code",
   "execution_count": 4,
   "outputs": [],
   "source": [
    "with_dblp = df[df[\"dblpEventId\"].notna()]\n",
    "# every entry has two /"
   ],
   "metadata": {
    "collapsed": false,
    "ExecuteTime": {
     "start_time": "2023-05-16T22:10:30.172433Z",
     "end_time": "2023-05-16T22:10:30.176826Z"
    }
   }
  },
  {
   "cell_type": "code",
   "execution_count": 5,
   "outputs": [],
   "source": [
    "import requests\n",
    "import bs4\n",
    "from bs4 import BeautifulSoup"
   ],
   "metadata": {
    "collapsed": false,
    "ExecuteTime": {
     "start_time": "2023-05-16T22:10:30.176884Z",
     "end_time": "2023-05-16T22:10:30.697059Z"
    }
   }
  },
  {
   "cell_type": "code",
   "execution_count": 6,
   "outputs": [],
   "source": [
    "def get_parent_page(dbpl_id: str, dbpl_base_url: str = \"https://dblp.org/db/\") -> str:\n",
    "  url = dbpl_base_url + dbpl_id\n",
    "  db_req = requests.get(url=url)\n",
    "  soup = BeautifulSoup(db_req.text, 'html.parser')\n",
    "  breadcrumbs = soup.find('div', {'id': 'breadcrumbs'})\n",
    "  last_itemprop = breadcrumbs.find_all('span', {'itemprop': 'itemListElement'})[-1]\n",
    "  return last_itemprop.find('a')['href']"
   ],
   "metadata": {
    "collapsed": false,
    "ExecuteTime": {
     "start_time": "2023-05-16T22:10:30.697973Z",
     "end_time": "2023-05-16T22:10:30.700002Z"
    }
   }
  },
  {
   "cell_type": "code",
   "execution_count": 7,
   "outputs": [],
   "source": [
    "def get_headline_of_dbpl_series(dbpl_series: str) -> str:\n",
    "  dbpl_parent_page = requests.get(dbpl_series)\n",
    "  if not dbpl_parent_page.text:\n",
    "    raise ValueError(\"Parent page could not be reached:\" + dbpl_series)\n",
    "  parent_soup = BeautifulSoup(dbpl_parent_page.text)\n",
    "  headline = parent_soup.find('header', {'id': 'headline'})\n",
    "  return headline.find('h1').text"
   ],
   "metadata": {
    "collapsed": false,
    "ExecuteTime": {
     "start_time": "2023-05-16T22:10:30.700962Z",
     "end_time": "2023-05-16T22:10:30.703002Z"
    }
   }
  },
  {
   "cell_type": "code",
   "execution_count": 8,
   "outputs": [],
   "source": [
    "from typing import Optional\n",
    "\n",
    "\n",
    "def get_series_name(dbpl_event_id: str) -> Optional[str]:\n",
    "  try:\n",
    "    parts = dbpl_event_id.split('/')\n",
    "    parent_id = '/'.join(parts[:2])\n",
    "    return get_headline_of_dbpl_series(\"https://dblp.org/db/\" + parent_id)\n",
    "  except:\n",
    "    return None"
   ],
   "metadata": {
    "collapsed": false,
    "ExecuteTime": {
     "start_time": "2023-05-16T22:10:30.703505Z",
     "end_time": "2023-05-16T22:10:30.705579Z"
    }
   }
  },
  {
   "cell_type": "code",
   "execution_count": 10,
   "outputs": [
    {
     "data": {
      "text/plain": "15     Tunisian-Algerian Joint Conference on Applied ...\n16     Conference on Computational Humanities Researc...\n30     International Conference of the Italian Associ...\n37            The Practice of Enterprise Modeling (PoEM)\n39     International Workshop on Information Technolo...\n56          International Semantic Web Conference (ISWC)\n57     IEEE International Conference on Formal Engine...\n60          International Semantic Web Conference (ISWC)\n61          International Semantic Web Conference (ISWC)\n62          International Semantic Web Conference (ISWC)\n73     International Conference on Information and Kn...\n74     International Conference on Information and Kn...\n98     International Workshop on Knowledge Discovery ...\n99     Deutsche Jahrestagung für Künstliche Intellige...\n100    European Conference on Principles of Data Mini...\n115    Italian Conference on Theoretical Computer Sci...\n116    Conference and Labs of the Evaluation Forum (C...\n117              Very Large Data Bases Conference (VLDB)\n121                Workshop From Objects to Agents (WOA)\n126    International Workshop on Socio-Technical Pers...\n129             Conference on Automated Deduction (CADE)\n130                        Non-Monotonic Reasoning (NMR)\n131    International Workshop on Description Logics (DL)\n133    International Conference on Logic Programming ...\n134    International Conference on Artificial Intelli...\n135    International Joint Conference on Artificial I...\n136    International Joint Conference on Artificial I...\n138    International Joint Conference on Artificial I...\n142    International Joint Conference on Artificial I...\n146    International Joint Conference on Artificial I...\nName: dblpEventId, dtype: object"
     },
     "execution_count": 10,
     "metadata": {},
     "output_type": "execute_result"
    }
   ],
   "source": [
    "with_dblp['dblpEventId'].iloc[:30].map(get_series_name)"
   ],
   "metadata": {
    "collapsed": false,
    "ExecuteTime": {
     "start_time": "2023-05-16T22:10:30.708444Z",
     "end_time": "2023-05-16T22:10:40.941616Z"
    }
   }
  },
  {
   "cell_type": "code",
   "execution_count": 11,
   "outputs": [
    {
     "data": {
      "text/plain": "15     Tunisian-Algerian Joint Conference on Applied ...\n16     Computational Humanities Research Conference 2022\n30     1st Workshop on Artificial Intelligence for Cu...\n37                PoEM 2022 Workshops and Models at Work\n39     2nd International Workshop on Information Tech...\n56                            SemREC 2022 and SMART 2022\n57     International Workshop on Formal Analysis and ...\n60     17th International Workshop on Ontology Matchi...\n61     Seventh International Workshop on the Visualiz...\n62     ISWC 2022 Posters, Demos and Industry Tracks: ...\n73     Workshop on Deep Learning for Search and Recom...\n74                                   CIKM 2022 Workshops\n98     20th anniversary Workshop on Knowledge Discove...\n99        8th Workshop on Formal and Cognitive Reasoning\n100    MACLEAN: MAChine Learning for EArth Observatio...\n115    23rd Italian Conference on Theoretical Compute...\n116    CLEF 2022 - Conference and Labs of the Evaluat...\n117                               VLDB 2022 PhD Workshop\n121               23rd Workshop \"From Objects to Agents\"\n126    8th International Workshop on Socio-Technical ...\n129    4th International Workshop on Automated Reason...\n130    20th International Workshop on Non-Monotonic R...\n131    35th International Workshop on Description Log...\n133    International Conference on Logic Programming ...\n134    Fourth International Workshop on Intelligent T...\n135    Twelfth International Workshop on Agents in Tr...\n136             Workshop on AI Evaluation Beyond Metrics\n138    1st International Workshop on Spatio-Temporal ...\n142    Workshop on the Interactions between Analogica...\n146    Workshop on Cognitive Aspects of Knowledge Rep...\nName: label, dtype: object"
     },
     "execution_count": 11,
     "metadata": {},
     "output_type": "execute_result"
    }
   ],
   "source": [
    "with_dblp['label'].iloc[:30]"
   ],
   "metadata": {
    "collapsed": false,
    "ExecuteTime": {
     "start_time": "2023-05-16T22:10:40.937276Z",
     "end_time": "2023-05-16T22:10:40.941843Z"
    }
   }
  }
 ],
 "metadata": {
  "kernelspec": {
   "display_name": "Python 3",
   "language": "python",
   "name": "python3"
  },
  "language_info": {
   "codemirror_mode": {
    "name": "ipython",
    "version": 2
   },
   "file_extension": ".py",
   "mimetype": "text/x-python",
   "name": "python",
   "nbconvert_exporter": "python",
   "pygments_lexer": "ipython2",
   "version": "2.7.6"
  }
 },
 "nbformat": 4,
 "nbformat_minor": 0
}
