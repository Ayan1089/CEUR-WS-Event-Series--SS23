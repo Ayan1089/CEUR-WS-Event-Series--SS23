{
 "cells": [
  {
   "cell_type": "code",
   "execution_count": 1,
   "id": "64ac95bf",
   "metadata": {},
   "outputs": [],
   "source": [
    "import nltk\n",
    "from nltk import ngrams\n",
    "import json\n",
    "import os\n",
    "import spacy\n",
    "from nltk.metrics.distance import jaccard_distance\n",
    "from spacy.matcher import PhraseMatcher"
   ]
  },
  {
   "cell_type": "code",
   "execution_count": 2,
   "id": "93409b37",
   "metadata": {},
   "outputs": [],
   "source": [
    "events_with_series_file = os.path.join(os.path.abspath(\"../eventseries/src/main/resources\"), \"events_with_ordinal.json\")\n",
    "events_file = os.path.join(os.path.abspath(\"../eventseries/src/main/resources\"), \"events_without_matches.json\")\n",
    "series_file = os.path.join(os.path.abspath(\"../eventseries/src/main/resources\"), \"event_series.json\")"
   ]
  },
  {
   "cell_type": "code",
   "execution_count": 3,
   "id": "43b71b79",
   "metadata": {},
   "outputs": [
    {
     "data": {
      "text/plain": [
       "3501"
      ]
     },
     "execution_count": 3,
     "metadata": {},
     "output_type": "execute_result"
    }
   ],
   "source": [
    "with open(events_with_series_file) as file:\n",
    "    events_with_existing_series = json.load(file)\n",
    "len(events_with_existing_series)"
   ]
  },
  {
   "cell_type": "code",
   "execution_count": 4,
   "id": "89cd34a5",
   "metadata": {
    "scrolled": true
   },
   "outputs": [
    {
     "data": {
      "text/plain": [
       "319"
      ]
     },
     "execution_count": 4,
     "metadata": {},
     "output_type": "execute_result"
    }
   ],
   "source": [
    "events_with_existing_series = [event for event in events_with_existing_series if 'series' in event.keys()]\n",
    "len(events_with_existing_series)"
   ]
  },
  {
   "cell_type": "code",
   "execution_count": 5,
   "id": "e49742ac",
   "metadata": {},
   "outputs": [
    {
     "data": {
      "text/plain": [
       "278"
      ]
     },
     "execution_count": 5,
     "metadata": {},
     "output_type": "execute_result"
    }
   ],
   "source": [
    "events_with_existing_series = [event for event in events_with_existing_series if 'title' in event.keys()]\n",
    "len(events_with_existing_series)"
   ]
  },
  {
   "cell_type": "markdown",
   "id": "086e288d",
   "metadata": {},
   "source": [
    "### Since we have only 278 entries with titles that have existing matches, we are not treating this dataset as our training corpus. This leads to dealing with metrics of accuracy only, and not precision, recall and f1-score"
   ]
  },
  {
   "cell_type": "code",
   "execution_count": 6,
   "id": "c9d05e4f",
   "metadata": {},
   "outputs": [
    {
     "data": {
      "text/plain": [
       "3140"
      ]
     },
     "execution_count": 6,
     "metadata": {},
     "output_type": "execute_result"
    }
   ],
   "source": [
    "with open(events_file) as file:\n",
    "    events = json.load(file)\n",
    "len(events)"
   ]
  },
  {
   "cell_type": "code",
   "execution_count": 7,
   "id": "58daab44",
   "metadata": {
    "scrolled": true
   },
   "outputs": [],
   "source": [
    "event_titles = [item['title'] for item in events if 'title' in item]\n",
    "event_labels = [item['eventLabel'] for item in events if 'eventLabel' in item]"
   ]
  },
  {
   "cell_type": "code",
   "execution_count": 8,
   "id": "661712c7",
   "metadata": {},
   "outputs": [
    {
     "name": "stdout",
     "output_type": "stream",
     "text": [
      "Event titles:  3098\n",
      "Event labels:  3140\n"
     ]
    }
   ],
   "source": [
    "print(\"Event titles: \", len(event_titles))\n",
    "print(\"Event labels: \", len(event_labels))"
   ]
  },
  {
   "cell_type": "code",
   "execution_count": 9,
   "id": "f524403e",
   "metadata": {},
   "outputs": [
    {
     "data": {
      "text/plain": [
       "118"
      ]
     },
     "execution_count": 9,
     "metadata": {},
     "output_type": "execute_result"
    }
   ],
   "source": [
    "with open(series_file) as file:\n",
    "    series = json.load(file)\n",
    "    series_titles = [item[\"title\"][\"value\"] for item in series[\"results\"][\"bindings\"] if \"title\" in item]\n",
    "len(series_titles)"
   ]
  },
  {
   "cell_type": "markdown",
   "id": "c20f60ff",
   "metadata": {},
   "source": [
    "### It has been usually observed that the event titles are larger than the series title\n",
    "Example - \n",
    "EVENT - Sixth International Workshop on Computer Modeling and Intelligent Systems (CMIS 2023) <br>\n",
    "EVENT_SERIES - International Workshop on Computer Modeling and Intelligent Systems <br>\n",
    "<br>\n",
    "EVENT - 5th International Conference on Recent Trends and Applications in Computer Science and Information Technology <br>\n",
    "EVENT_SERIES - International Conference on Recent Trends and Applications in Computer Science and Information Technology"
   ]
  },
  {
   "cell_type": "markdown",
   "id": "b5a32e3c",
   "metadata": {},
   "source": [
    "#### So we take the series as the phrases to be matched with the events - containment matches"
   ]
  },
  {
   "cell_type": "code",
   "execution_count": 10,
   "id": "56feeb32",
   "metadata": {},
   "outputs": [],
   "source": [
    "# Capturing all the distinct series\n",
    "series_distinct = []"
   ]
  },
  {
   "cell_type": "code",
   "execution_count": 11,
   "id": "0e24cca5",
   "metadata": {},
   "outputs": [
    {
     "name": "stdout",
     "output_type": "stream",
     "text": [
      "Number of containment matches from event titles:  140\n"
     ]
    }
   ],
   "source": [
    "nlp = spacy.load(\"en_core_web_sm\")\n",
    "matcher = PhraseMatcher(nlp.vocab)\n",
    "# Only run nlp.make_doc to speed things up\n",
    "patterns = [nlp.make_doc(text) for text in series_titles]\n",
    "matcher.add(\"Event_EventSeries_Matcher\", patterns)\n",
    "\n",
    "matching_events = []\n",
    "for event in event_titles:\n",
    "    doc = nlp(event)    \n",
    "    matches = matcher(doc)\n",
    "    for match_id, start, end in matches:\n",
    "        span = doc[start:end]\n",
    "        if event not in matching_events:\n",
    "            matching_events.append(event)\n",
    "        if span.text not in series_distinct:\n",
    "            series_distinct.append(span.text)\n",
    "#         print(f\"Series: '{span.text}' Event: '{event}'\")\n",
    "print(\"Number of containment matches from event titles: \", len(matching_events))"
   ]
  },
  {
   "cell_type": "code",
   "execution_count": 12,
   "id": "2716b714",
   "metadata": {
    "scrolled": true
   },
   "outputs": [
    {
     "name": "stdout",
     "output_type": "stream",
     "text": [
      "Accuracy = 4.45859872611465\n"
     ]
    }
   ],
   "source": [
    "accuracy = (len(matching_events) / len(events))*100 \n",
    "print(f\"Accuracy = {accuracy}\")"
   ]
  },
  {
   "cell_type": "code",
   "execution_count": 13,
   "id": "bdad589a",
   "metadata": {},
   "outputs": [],
   "source": [
    "event_without_matches = [event for event in events if event not in matching_events]\n",
    "with open('events_without_containment_matches.json', 'w') as fp:\n",
    "    json.dump(event_without_matches, fp)"
   ]
  },
  {
   "cell_type": "code",
   "execution_count": 14,
   "id": "b5467134",
   "metadata": {},
   "outputs": [
    {
     "data": {
      "text/plain": [
       "2958"
      ]
     },
     "execution_count": 14,
     "metadata": {},
     "output_type": "execute_result"
    }
   ],
   "source": [
    "event_titles = [event for event in event_titles if event not in matching_events]\n",
    "len(event_titles)"
   ]
  },
  {
   "cell_type": "code",
   "execution_count": 15,
   "id": "e274a34e",
   "metadata": {},
   "outputs": [],
   "source": [
    "if '' in event_titles:\n",
    "    print(True)"
   ]
  },
  {
   "cell_type": "code",
   "execution_count": 16,
   "id": "f12d4684",
   "metadata": {
    "scrolled": true
   },
   "outputs": [
    {
     "name": "stdout",
     "output_type": "stream",
     "text": [
      "Partial match found:\n",
      "#####EVENT#####1st International Workshop on Knowledge Graph Summarization\n",
      "######SERIES######International Workshop on Knowledge Graph Construction\n",
      "\n",
      "Partial match found:\n",
      "#####EVENT#####Digital Humanities in the Nordic Countries 5th Conference\n",
      "######SERIES######Digital Humanities in the Nordic Countries Conference\n",
      "\n",
      "Partial match found:\n",
      "#####EVENT#####12th ZEUS Workshop on Services and their Composition\n",
      "######SERIES######Central-European Workshop on Services and their Composition\n",
      "\n",
      "Partial match found:\n",
      "#####EVENT#####XXXV International Conference of the Spanish Society for Natural Language Processing\n",
      "######SERIES######Annual Conference of the Spanish Society for Natural Language Processing\n",
      "\n",
      "Partial match found:\n",
      "#####EVENT#####1st International Workshop on Knowledge Graph Building\n",
      "######SERIES######International Workshop on Knowledge Graph Construction\n",
      "\n",
      "Partial match found:\n",
      "#####EVENT#####11th Central European Workshop on Services and their Composition\n",
      "######SERIES######Central-European Workshop on Services and their Composition\n",
      "\n",
      "Partial match found:\n",
      "#####EVENT#####Doctoral Symposium of the XXXIV International Conference of the Spanish Society for Natural Language Processing\n",
      "######SERIES######Annual Conference of the Spanish Society for Natural Language Processing\n",
      "\n",
      "Partial match found:\n",
      "#####EVENT#####Digital Humanities in the Nordic Countries 3rd Conference\n",
      "######SERIES######Digital Humanities in the Nordic Countries Conference\n",
      "\n",
      "Partial match found:\n",
      "#####EVENT#####10th Central European Workshop on Services and their Composition\n",
      "######SERIES######Central-European Workshop on Services and their Composition\n",
      "\n",
      "Partial match found:\n",
      "#####EVENT#####Doctoral Symposium of the 33rd Conference of the Spanish Society for Natural Language Processing\n",
      "######SERIES######Annual Conference of the Spanish Society for Natural Language Processing\n",
      "\n",
      "Partial match found:\n",
      "#####EVENT#####3rd International Workshop on Knowledge Discovery on the WEB\n",
      "######SERIES######International Workshop on Knowledge Discovery on the Web\n",
      "\n",
      "Partial match found:\n",
      "#####EVENT#####Fifth Workshop on Bibliometric-enhanced Information Retrieval (BIR)\n",
      "######SERIES######International Workshop on Bibliometric-enhanced Information Retrieval\n",
      "\n",
      "Partial match found:\n",
      "#####EVENT#####9th Workshop on Verification and Evaluation of Computer and Communication Systems\n",
      "######SERIES######International Workshop on Verification and Evaluation of Computer and Communication Systems\n",
      "\n",
      "Partial match found:\n",
      "#####EVENT#####1st International Workshop on Knowledge Discovery on the WEB\n",
      "######SERIES######International Workshop on Knowledge Discovery on the Web\n",
      "\n",
      "Partial match found:\n",
      "#####EVENT#####4th International Workshop on Artificial Intelligence and Assistive Medicine\n",
      "######SERIES######International Workshop on Artificial Intelligence and Cognition\n",
      "\n",
      "Partial match found:\n",
      "#####EVENT#####Second Workshop on Bibliometric-enhanced Information Retrieval\n",
      "######SERIES######International Workshop on Bibliometric-enhanced Information Retrieval\n",
      "\n",
      "Partial match found:\n",
      "#####EVENT#####7th Central European Workshop on Services and their Composition\n",
      "######SERIES######Central-European Workshop on Services and their Composition\n",
      "\n",
      "Partial match found:\n",
      "#####EVENT#####3rd International Workshop on Artificial Intelligence and Assistive Medicine\n",
      "######SERIES######International Workshop on Artificial Intelligence and Cognition\n",
      "\n",
      "Partial match found:\n",
      "#####EVENT#####Tenth Spring Researchers Colloquium on Databases and Information Systems\n",
      "######SERIES######Spring Young Researchers Colloquium on Databases and Information Systems\n",
      "\n",
      "Partial match found:\n",
      "#####EVENT#####First Workshop on Bibliometric-enhanced Information Retrieval\n",
      "######SERIES######International Workshop on Bibliometric-enhanced Information Retrieval\n",
      "\n",
      "Partial match found:\n",
      "#####EVENT#####Joint IV Seminar on Ontology Research in Brazil and VI International Workshop on Metamodels, Ontologies and Semantic Technologies\n",
      "######SERIES######Joint Seminar on Ontology Research in Brazil / International Workshop on Metamodels, Ontologies and Semantic Technologies\n",
      "\n",
      "Partial match found:\n",
      "#####EVENT#####Seventh Spring Researchers Colloquium on Databases and Information Systems\n",
      "######SERIES######Spring Young Researchers Colloquium on Databases and Information Systems\n",
      "\n",
      "Partial match found:\n",
      "#####EVENT#####WoMO'06 Workshop on Modular Ontologies\n",
      "######SERIES######International Workshop on Modular Ontologies\n",
      "\n"
     ]
    }
   ],
   "source": [
    "n = 3  # Number of words in each n-gram\n",
    "\n",
    "threshold = 0.5  # Minimum required similarity for a partial match\n",
    "\n",
    "partially_matched_events = []\n",
    "for event in event_titles:\n",
    "    event_ngrams = set(ngrams(event.split(), n))\n",
    "    for series in series_titles:\n",
    "        series_ngrams = set(ngrams(series.split(), n))\n",
    "        '''There can be cases that series or events don't have 3 words'''\n",
    "        if(len(event_ngrams.union(series_ngrams)) > 0):\n",
    "            similarity = 1 - jaccard_distance(event_ngrams, series_ngrams)\n",
    "            \n",
    "        if similarity >= threshold:\n",
    "            print(\"Partial match found:\")\n",
    "            print(f\"#####EVENT#####{event}\")\n",
    "            print(f\"######SERIES######{series}\")\n",
    "            if series not in series_distinct:\n",
    "                series_distinct.append(series)\n",
    "            print()\n",
    "            partially_matched_events.append(event)"
   ]
  },
  {
   "cell_type": "code",
   "execution_count": 17,
   "id": "9f9289cc",
   "metadata": {},
   "outputs": [
    {
     "name": "stdout",
     "output_type": "stream",
     "text": [
      "Number of partial matches:  23\n"
     ]
    }
   ],
   "source": [
    "print(\"Number of partial matches: \", len(partially_matched_events))"
   ]
  },
  {
   "cell_type": "code",
   "execution_count": 18,
   "id": "7ca7393f",
   "metadata": {},
   "outputs": [
    {
     "name": "stdout",
     "output_type": "stream",
     "text": [
      "Accuracy = 0.777552400270453\n"
     ]
    }
   ],
   "source": [
    "accuracy = (len(partially_matched_events) / len(event_titles))*100 \n",
    "print(f\"Accuracy = {accuracy}\")"
   ]
  },
  {
   "cell_type": "code",
   "execution_count": 19,
   "id": "0ec97fd9",
   "metadata": {},
   "outputs": [
    {
     "data": {
      "text/plain": [
       "2935"
      ]
     },
     "execution_count": 19,
     "metadata": {},
     "output_type": "execute_result"
    }
   ],
   "source": [
    "event_titles = [event for event in event_titles if event not in partially_matched_events]\n",
    "len(event_titles)"
   ]
  },
  {
   "cell_type": "code",
   "execution_count": 20,
   "id": "106d615c",
   "metadata": {
    "scrolled": true
   },
   "outputs": [
    {
     "name": "stdout",
     "output_type": "stream",
     "text": [
      "Partial match found:\n",
      "#####EVENT#####15th Central European Workshop Services and their Composition (ZEUS 2023)\n",
      "######SERIES######Central-European Workshop on Services and their Composition\n",
      "\n",
      "Partial match found:\n",
      "#####EVENT#####First International Workshop on Data Ecosystems\n",
      "######SERIES######International Workshop on Software Ecosystems\n",
      "\n",
      "Partial match found:\n",
      "#####EVENT#####23rd Workshop \"From Objects to Agents\"\n",
      "######SERIES######Workshop From Objects to Agents\n",
      "\n",
      "Partial match found:\n",
      "#####EVENT#####6th Digital Humanities in the Nordic and Baltic Countries Conference (DHNB 2022)\n",
      "######SERIES######Digital Humanities in the Nordic Countries Conference\n",
      "\n",
      "Partial match found:\n",
      "#####EVENT#####14th Central European Workshop on Services and their Composition (ZEUS 2022)\n",
      "######SERIES######Central-European Workshop on Services and their Composition\n",
      "\n",
      "Partial match found:\n",
      "#####EVENT#####22nd Workshop \"From Objects to Agents\"\n",
      "######SERIES######Workshop From Objects to Agents\n",
      "\n",
      "Partial match found:\n",
      "#####EVENT#####5th Conference Digital Humanities in the Nordic Countries (DHN 2020)\n",
      "######SERIES######Digital Humanities in the Nordic Countries Conference\n",
      "\n",
      "Partial match found:\n",
      "#####EVENT#####21st Workshop \"From Objects to Agents\"\n",
      "######SERIES######Workshop From Objects to Agents\n",
      "\n",
      "Partial match found:\n",
      "#####EVENT#####13th Seminar Series on Advanced Techniques & Tools for Software Evolution\n",
      "######SERIES######Seminar on Advanced Techniques and Tools for Software Evolution\n",
      "\n",
      "Partial match found:\n",
      "#####EVENT#####8th International Symposium on Data-driven Process Discovery and Analysis (SIMPDA 2018)\n",
      "######SERIES######International Symposium on Data-Driven Process Discovery and Analysis\n",
      "\n",
      "Partial match found:\n",
      "#####EVENT#####8th Joint International Semantic Technology Conference\n",
      "######SERIES######Joint International Conference of Semantic Technology\n",
      "\n",
      "Partial match found:\n",
      "#####EVENT#####International Workshop on Data Search\n",
      "######SERIES######International Workshop on Very Large Data Search\n",
      "\n",
      "Partial match found:\n",
      "#####EVENT#####19th Workshop``From Objects to Agents''\n",
      "######SERIES######Workshop From Objects to Agents\n",
      "\n",
      "Partial match found:\n",
      "#####EVENT#####7th International Symposium on Data-driven Process Discovery and Analysis (SIMPDA 2017)\n",
      "######SERIES######International Symposium on Data-Driven Process Discovery and Analysis\n",
      "\n",
      "Partial match found:\n",
      "#####EVENT#####18th Workshop ``From Objects to Agents''\n",
      "######SERIES######Workshop From Objects to Agents\n",
      "\n",
      "Partial match found:\n",
      "#####EVENT#####6th International Symposium on Data-driven Process Discovery and Analysis\n",
      "######SERIES######International Symposium on Data-Driven Process Discovery and Analysis\n",
      "\n",
      "Partial match found:\n",
      "#####EVENT#####First Workshop on Digital Humanities and Digital Curation\n",
      "######SERIES######Conference on Digital Curation Technologies\n",
      "\n",
      "Partial match found:\n",
      "#####EVENT#####Eleventh Conference on Semantic Technology for Intelligence, Defense, and Security\n",
      "######SERIES######Semantic Technologies for Intelligence, Defense, and Security\n",
      "\n",
      "Partial match found:\n",
      "#####EVENT#####6th Joint International Semantic Technology Conference\n",
      "######SERIES######Joint International Conference of Semantic Technology\n",
      "\n",
      "Partial match found:\n",
      "#####EVENT#####7th International Symposium on Semantic Mining in Biomedicine\n",
      "######SERIES######International Symposium for Semantic Mining in Biomedicine\n",
      "\n",
      "Partial match found:\n",
      "#####EVENT#####5th International Symposium on Data-driven Process Discovery and Analysis (SIMPDA 2015)\n",
      "######SERIES######International Symposium on Data-Driven Process Discovery and Analysis\n",
      "\n",
      "Partial match found:\n",
      "#####EVENT#####Tenth Conference on Semantic Technology for Intelligence, Defense, and Security\n",
      "######SERIES######Semantic Technologies for Intelligence, Defense, and Security\n",
      "\n",
      "Partial match found:\n",
      "#####EVENT#####2nd International Workshop on Semantic Technologies\n",
      "######SERIES######International Workshop on Semantic Web Technologies\n",
      "\n",
      "Partial match found:\n",
      "#####EVENT#####16th Workshop \"From Objects to Agents\"\n",
      "######SERIES######Workshop From Objects to Agents\n",
      "\n",
      "Partial match found:\n",
      "#####EVENT#####Dateso 2015 Annual International Workshop on DAtabases, TExts, Specifications and Objects\n",
      "######SERIES######Databases, Texts, Specifications, Objects\n",
      "\n",
      "Partial match found:\n",
      "#####EVENT#####1st International Workshop on Semantic Technologies\n",
      "######SERIES######International Workshop on Semantic Web Technologies\n",
      "\n",
      "Partial match found:\n",
      "#####EVENT#####4th International Symposium on Data-driven Process Discovery and Analysis\n",
      "######SERIES######International Symposium on Data-Driven Process Discovery and Analysis\n",
      "\n",
      "Partial match found:\n",
      "#####EVENT#####4th Joint International Semantic Technology Conference\n",
      "######SERIES######Joint International Conference of Semantic Technology\n",
      "\n",
      "Partial match found:\n",
      "#####EVENT#####First International Workshop on Decision Making and Recommender Systems\n",
      "######SERIES######Joint Workshop on Interfaces and Human Decision Making for Recommender Systems\n",
      "\n",
      "Partial match found:\n",
      "#####EVENT#####Dateso 2014 Annual International Workshop on DAtabases, TExts, Specifications and Objects\n",
      "######SERIES######Databases, Texts, Specifications, Objects\n",
      "\n",
      "Partial match found:\n",
      "#####EVENT#####Eleventh European Workshop on Multi-Agent Systems\n",
      "######SERIES######European Conference on Multi-Agent Systems\n",
      "\n",
      "Partial match found:\n",
      "#####EVENT#####14th Workshop \"From Objects to Agents\"\n",
      "######SERIES######Workshop From Objects to Agents\n",
      "\n",
      "Partial match found:\n",
      "#####EVENT#####3rd Workshop on Human Decision Making in Recommender Systems\n",
      "######SERIES######Joint Workshop on Interfaces and Human Decision Making for Recommender Systems\n",
      "\n",
      "Partial match found:\n",
      "#####EVENT#####3rd CUBIST (Combining and Uniting Business Intelligence with Semantic Technologies) Workshop\n",
      "######SERIES######Combining and Uniting Business Intelligence with Semantic Technologies Workshop\n",
      "\n",
      "Partial match found:\n",
      "#####EVENT#####Concept Extraction Challenge at the Workshop on 'Making Sense of Microposts'\n",
      "######SERIES######Workshop on Making Sense of Microposts\n",
      "\n",
      "Partial match found:\n",
      "#####EVENT#####2nd Workshop on Human Decision Making in Recommender Systems\n",
      "######SERIES######Joint Workshop on Interfaces and Human Decision Making for Recommender Systems\n",
      "\n",
      "Partial match found:\n",
      "#####EVENT#####Doctoral Consortium of the 12th Symposium of the Italian Association for Artificial Intelligence\n",
      "######SERIES######International Conference of the Italian Association for Artificial Intelligence\n",
      "\n",
      "Partial match found:\n",
      "#####EVENT#####Eighth Spring Researchers Colloquium on Databases and Information Systems (SYRCoDIS 2012)\n",
      "######SERIES######Spring Young Researchers Colloquium on Databases and Information Systems\n",
      "\n",
      "Partial match found:\n",
      "#####EVENT#####Dateso 2012 Annual International Workshop on DAtabases, TExts, Specifications and Objects\n",
      "######SERIES######Databases, Texts, Specifications, Objects\n",
      "\n",
      "Partial match found:\n",
      "#####EVENT#####WWW'12 Workshop on 'Making Sense of Microposts'\n",
      "######SERIES######Workshop on Making Sense of Microposts\n",
      "\n",
      "Partial match found:\n",
      "#####EVENT#####Seventh Latin American Workshop on Non-Monotonic Reasoning 2011\n",
      "######SERIES######Latin-American Workshop on Non-Monotonic Reasoning\n",
      "\n",
      "Partial match found:\n",
      "#####EVENT#####Workshop on Human Decision Making in Recommender Systems\n",
      "######SERIES######Joint Workshop on Interfaces and Human Decision Making for Recommender Systems\n",
      "\n",
      "Partial match found:\n",
      "#####EVENT#####12th Workshop on Objects and Agents\n",
      "######SERIES######Workshop From Objects to Agents\n",
      "\n",
      "Partial match found:\n",
      "#####EVENT#####Dateso 2011: Annual International Workshop on DAtabases, TExts, Specifications and Objects\n",
      "######SERIES######Databases, Texts, Specifications, Objects\n",
      "\n",
      "Partial match found:\n",
      "#####EVENT#####Sixth Latin American Workshop on Non-Monotonic Reasoning 2010\n",
      "######SERIES######Latin-American Workshop on Non-Monotonic Reasoning\n",
      "\n",
      "Partial match found:\n",
      "#####EVENT#####First International Workshop on Uncertainty in Description Logics\n",
      "######SERIES######International Workshop on Description Logics\n",
      "\n",
      "Partial match found:\n",
      "#####EVENT#####Dateso 2010 Annual International Workshop on DAtabases, TExts, Specifications and Objects\n",
      "######SERIES######Databases, Texts, Specifications, Objects\n",
      "\n",
      "Partial match found:\n",
      "#####EVENT#####LANMR'09 Latin American Workshop on Non-Monotonic Reasoning 2009\n",
      "######SERIES######Latin-American Workshop on Non-Monotonic Reasoning\n",
      "\n",
      "Partial match found:\n",
      "#####EVENT#####NeSy'09 Neural-Symbolic Learning and Reasoning\n",
      "######SERIES######International Workshop on Neural-Symbolic Learning and Reasoning\n",
      "\n",
      "Partial match found:\n",
      "#####EVENT#####The Sixth Spring Young Researchers' Colloquium on Databases and Information Systems (SYRCoDIS 2009)\n",
      "######SERIES######Spring Young Researchers Colloquium on Databases and Information Systems\n",
      "\n",
      "Partial match found:\n",
      "#####EVENT#####LANMR'08 Fourth Latin American Workshop on Non-Monotonic Reasoning 2008\n",
      "######SERIES######Latin-American Workshop on Non-Monotonic Reasoning\n",
      "\n",
      "Partial match found:\n",
      "#####EVENT#####NeSy'08 Neural-Symbolic Learning and Reasoning\n",
      "######SERIES######International Workshop on Neural-Symbolic Learning and Reasoning\n",
      "\n",
      "Partial match found:\n",
      "#####EVENT#####NeSy'07 Neural-Symbolic Learning and Reasoning 3rd International Workshop\n",
      "######SERIES######International Workshop on Neural-Symbolic Learning and Reasoning\n",
      "\n",
      "Partial match found:\n",
      "#####EVENT#####SMBM 2006 Second International Symposium on Semantic Mining in Biomedicine\n",
      "######SERIES######International Symposium for Semantic Mining in Biomedicine\n",
      "\n",
      "Partial match found:\n",
      "#####EVENT#####EON2004 Evaluation of Ontology-based Tools\n",
      "######SERIES######Workshop on Evaluation of Ontology-based Tools\n",
      "\n",
      "Partial match found:\n",
      "#####EVENT#####EON2003 Evaluation of Ontology-based Tools\n",
      "######SERIES######Workshop on Evaluation of Ontology-based Tools\n",
      "\n",
      "Partial match found:\n",
      "#####EVENT#####EON2002 Evaluation of Ontology-based Tools\n",
      "######SERIES######Workshop on Evaluation of Ontology-based Tools\n",
      "\n",
      "Partial match found:\n",
      "#####EVENT#####8th International Workshop on Knowledge Representation meets Databases (KRDB2001)\n",
      "######SERIES######Knowledge Representation Meets Databases\n",
      "\n"
     ]
    }
   ],
   "source": [
    "from sklearn.feature_extraction.text import TfidfVectorizer\n",
    "from sklearn.metrics.pairwise import cosine_similarity\n",
    "from sklearn.feature_extraction import text\n",
    "import numpy as np\n",
    "\n",
    "vectorizer = TfidfVectorizer(stop_words = text.ENGLISH_STOP_WORDS)\n",
    "array1_strings = event_titles\n",
    "array2_strings = series_titles\n",
    "tfidf_matrix = vectorizer.fit_transform(event_titles + series_titles)\n",
    "\n",
    "# Calculate cosine similarity between array1 and array2\n",
    "similarity_matrix = cosine_similarity(tfidf_matrix[:len(array1_strings)], tfidf_matrix[len(array1_strings):])\n",
    "\n",
    "# Threshold for partial match\n",
    "threshold = 0.7\n",
    "\n",
    "# Find partial matches\n",
    "matches = np.argwhere(similarity_matrix >= threshold)\n",
    "\n",
    "ctr = 0\n",
    "partially_matched_events = []\n",
    "# Print partial matches\n",
    "for match in matches:\n",
    "    array1_index = match[0]\n",
    "    array2_index = match[1]\n",
    "    print(\"Partial match found:\")\n",
    "    print(f\"#####EVENT#####{array1_strings[array1_index]}\")\n",
    "    print(f\"######SERIES######{array2_strings[array2_index]}\")\n",
    "    if series not in series_distinct:\n",
    "        series_distinct.append(series)\n",
    "    print()\n",
    "    partially_matched_events.append(array1_strings[array1_index])"
   ]
  },
  {
   "cell_type": "code",
   "execution_count": 21,
   "id": "9c1449c3",
   "metadata": {
    "scrolled": true
   },
   "outputs": [
    {
     "name": "stdout",
     "output_type": "stream",
     "text": [
      "Number of partial matches:  58\n"
     ]
    }
   ],
   "source": [
    "print(\"Number of partial matches: \", len(partially_matched_events))"
   ]
  },
  {
   "cell_type": "code",
   "execution_count": 22,
   "id": "da233c49",
   "metadata": {
    "scrolled": true
   },
   "outputs": [
    {
     "name": "stdout",
     "output_type": "stream",
     "text": [
      "Accuracy = 1.9761499148211243\n"
     ]
    }
   ],
   "source": [
    "accuracy = (len(partially_matched_events) / len(event_titles))*100 \n",
    "print(f\"Accuracy = {accuracy}\")"
   ]
  },
  {
   "cell_type": "code",
   "execution_count": 23,
   "id": "ceafe01f",
   "metadata": {},
   "outputs": [
    {
     "data": {
      "text/plain": [
       "61"
      ]
     },
     "execution_count": 23,
     "metadata": {},
     "output_type": "execute_result"
    }
   ],
   "source": [
    "len(series_distinct)"
   ]
  },
  {
   "cell_type": "code",
   "execution_count": null,
   "id": "dd5dab86",
   "metadata": {},
   "outputs": [],
   "source": []
  }
 ],
 "metadata": {
  "kernelspec": {
   "display_name": "Python 3 (ipykernel)",
   "language": "python",
   "name": "python3"
  },
  "language_info": {
   "codemirror_mode": {
    "name": "ipython",
    "version": 3
   },
   "file_extension": ".py",
   "mimetype": "text/x-python",
   "name": "python",
   "nbconvert_exporter": "python",
   "pygments_lexer": "ipython3",
   "version": "3.9.13"
  }
 },
 "nbformat": 4,
 "nbformat_minor": 5
}
